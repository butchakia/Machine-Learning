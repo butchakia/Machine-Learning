{
 "cells": [
  {
   "cell_type": "code",
   "execution_count": 1,
   "metadata": {},
   "outputs": [],
   "source": [
    "# The following command cleans the working memory and ensures that all references are to items created in this file.\n",
    "rm(list=(ls()))"
   ]
  },
  {
   "cell_type": "code",
   "execution_count": 3,
   "metadata": {},
   "outputs": [],
   "source": [
    "# Data set containing sales of child car seats (coded as high or low) at 400 different stores\n",
    "carseats <- read.csv(\"carseats.csv\")"
   ]
  },
  {
   "cell_type": "code",
   "execution_count": 4,
   "metadata": {},
   "outputs": [],
   "source": [
    "#Let's perform some pre-processing\n",
    "\n",
    "#Convert the variables below into a factor.\n",
    "#There are only three categorical variables that we want to convert into a factor, but when you have many variables to convert, you may want to automate the process.\n",
    "\n",
    "carseats$ShelveLoc <- factor(carseats$ShelveLoc)\n",
    "carseats$Urban <- factor(carseats$Urban)\n",
    "carseats$US <- factor(carseats$US)\n",
    "carseats$sales <- factor(carseats$sales)"
   ]
  },
  {
   "cell_type": "code",
   "execution_count": 5,
   "metadata": {},
   "outputs": [
    {
     "name": "stderr",
     "output_type": "stream",
     "text": [
      "Loading required package: lattice\n",
      "Loading required package: ggplot2\n",
      "Warning message:\n",
      "\"package 'ggplot2' was built under R version 3.6.3\""
     ]
    }
   ],
   "source": [
    "#Let's split the data into a train (70%) and test (30%) sets.\n",
    "\n",
    "set.seed (23) # for reproducibility\n",
    "library(caret) \n",
    "\n",
    "# Caret has a nice createdataPatrition function that creates a train and test split. It performs stratified sampling based on the target variable (label).\n",
    "\n",
    "index <- createDataPartition(y = carseats$sales,\n",
    "                                     p = .7,\n",
    "                                     list = FALSE)\n",
    "\n",
    "carseats.train <- carseats[index,] \n",
    "carseats.test <- carseats[-index,]"
   ]
  },
  {
   "cell_type": "code",
   "execution_count": 6,
   "metadata": {},
   "outputs": [
    {
     "name": "stdout",
     "output_type": "stream",
     "text": [
      "package 'rpart' successfully unpacked and MD5 sums checked\n"
     ]
    },
    {
     "name": "stderr",
     "output_type": "stream",
     "text": [
      "Warning message:\n",
      "\"cannot remove prior installation of package 'rpart'\"Warning message in file.copy(savedcopy, lib, recursive = TRUE):\n",
      "\"problem copying C:\\Users\\Dave\\anaconda3\\envs\\charts\\Lib\\R\\library\\00LOCK\\rpart\\libs\\x64\\rpart.dll to C:\\Users\\Dave\\anaconda3\\envs\\charts\\Lib\\R\\library\\rpart\\libs\\x64\\rpart.dll: Permission denied\"Warning message:\n",
      "\"restored 'rpart'\""
     ]
    },
    {
     "name": "stdout",
     "output_type": "stream",
     "text": [
      "\n",
      "The downloaded binary packages are in\n",
      "\tC:\\Users\\Dave\\AppData\\Local\\Temp\\RtmpIpcrCu\\downloaded_packages\n",
      "package 'rpart.plot' successfully unpacked and MD5 sums checked\n",
      "\n",
      "The downloaded binary packages are in\n",
      "\tC:\\Users\\Dave\\AppData\\Local\\Temp\\RtmpIpcrCu\\downloaded_packages\n"
     ]
    },
    {
     "name": "stderr",
     "output_type": "stream",
     "text": [
      "Warning message:\n",
      "\"package 'rpart.plot' was built under R version 3.6.3\""
     ]
    }
   ],
   "source": [
    "# Fit a decision tree\n",
    "install.packages(\"rpart\", repos = \"http://cran.us.r-project.org\") \n",
    "install.packages(\"rpart.plot\", repos = \"http://cran.us.r-project.org\") \n",
    "library(rpart)\n",
    "library(rpart.plot)\n",
    "set.seed(23)\n",
    "\n",
    "# Set the formula with all variables.If you choose, you can manually type the formula.\n",
    "target <- \"sales\"\n",
    "features <- c(\"CompPrice\",\n",
    "              \"Income\",\n",
    "              \"Advertising\",\n",
    "              \"Population\",\n",
    "              \"Price\",\n",
    "              \"ShelveLoc\",\n",
    "              \"Age\" ,\n",
    "              \"Education\",\n",
    "              \"Urban\",\n",
    "              \"US\")\n",
    "\n",
    "\n",
    "\n",
    "dtree.f <- as.formula(paste(target, paste(features, collapse = \"+\"), sep = \"~\"))"
   ]
  },
  {
   "cell_type": "code",
   "execution_count": 7,
   "metadata": {},
   "outputs": [
    {
     "data": {
      "image/png": "[encoded data removed]",
      "text/plain": [
       "plot without title"
      ]
     },
     "metadata": {},
     "output_type": "display_data"
    }
   ],
   "source": [
    "# Fit a decision tree and save to dtree, method = \"class\" ensures the target is treated as a categorical variable.\n",
    "dtree <- rpart(dtree.f, data = carseats.train, method = \"class\",\n",
    "             control = rpart.control(minbucket = 5, cp = 0.01, maxdepth = 5), \n",
    "             parms = list(split = \"gini\"))\n",
    "\n",
    "# Plot the tree.\n",
    "rpart.plot(dtree)"
   ]
  },
  {
   "cell_type": "code",
   "execution_count": 8,
   "metadata": {},
   "outputs": [
    {
     "data": {
      "text/plain": [
       "          \n",
       "pred_train  high   low\n",
       "     high     218   17\n",
       "     low        9   37"
      ]
     },
     "metadata": {},
     "output_type": "display_data"
    }
   ],
   "source": [
    "#Training Error\n",
    "\n",
    "#Let's get prediction on the training set\n",
    "# If you don't specify the newdata, the predict function takes the data the model was trainined on.\n",
    "pred_train <- predict(dtree, type = \"class\") #predicts classes\n",
    "\n",
    "#Let's get a confusion matrix, and calculate accuracy\n",
    "#The caret package has a function to calculate a confusion matrix, but we will use table\n",
    "table(pred_train, carseats.train$sales)"
   ]
  },
  {
   "cell_type": "code",
   "execution_count": 9,
   "metadata": {},
   "outputs": [
    {
     "data": {
      "text/html": [
       "0.907473309608541"
      ],
      "text/latex": [
       "0.907473309608541"
      ],
      "text/markdown": [
       "0.907473309608541"
      ],
      "text/plain": [
       "[1] 0.9074733"
      ]
     },
     "metadata": {},
     "output_type": "display_data"
    }
   ],
   "source": [
    "# Accuracy\n",
    "# It has 90.7% accuracy on the training test. Please note that accuracy could mean many different things, here we are referring to the percentage the decision tree made correct predictions\n",
    "\n",
    "(218+37)/(218+37+9+17)"
   ]
  },
  {
   "cell_type": "code",
   "execution_count": 10,
   "metadata": {},
   "outputs": [
    {
     "data": {
      "text/plain": [
       "         \n",
       "pred_test  high   low\n",
       "    high      82   15\n",
       "    low       14    8"
      ]
     },
     "metadata": {},
     "output_type": "display_data"
    }
   ],
   "source": [
    "# How well does the model (decision tree) do on test data?\n",
    "\n",
    "#Let's get prediction on the test set\n",
    "pred_test <- predict(dtree, type = \"class\", newdata = carseats.test) #predicts classes\n",
    "\n",
    "#Let's get a confusion matrix, and calculate accuracy\n",
    "\n",
    "table(pred_test, carseats.test$sales) "
   ]
  },
  {
   "cell_type": "code",
   "execution_count": 11,
   "metadata": {},
   "outputs": [
    {
     "data": {
      "text/html": [
       "0.756302521008403"
      ],
      "text/latex": [
       "0.756302521008403"
      ],
      "text/markdown": [
       "0.756302521008403"
      ],
      "text/plain": [
       "[1] 0.7563025"
      ]
     },
     "metadata": {},
     "output_type": "display_data"
    }
   ],
   "source": [
    "# Accuracy\n",
    "# It has 75.6% accuracy on the test set (much lower than the accuracy obtained in the training set.)\n",
    "\n",
    "(82+8)/(82+8+14+15)"
   ]
  },
  {
   "cell_type": "code",
   "execution_count": null,
   "metadata": {},
   "outputs": [],
   "source": []
  }
 ],
 "metadata": {
  "kernelspec": {
   "display_name": "R",
   "language": "R",
   "name": "ir"
  },
  "language_info": {
   "codemirror_mode": "r",
   "file_extension": ".r",
   "mimetype": "text/x-r-source",
   "name": "R",
   "pygments_lexer": "r",
   "version": "3.6.1"
  }
 },
 "nbformat": 4,
 "nbformat_minor": 4
}
